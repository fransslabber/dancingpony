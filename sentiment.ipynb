{
 "cells": [
  {
   "cell_type": "code",
   "execution_count": 4,
   "metadata": {},
   "outputs": [
    {
     "name": "stderr",
     "output_type": "stream",
     "text": [
      "No model was supplied, defaulted to distilbert/distilbert-base-uncased-finetuned-sst-2-english and revision 714eb0f (https://huggingface.co/distilbert/distilbert-base-uncased-finetuned-sst-2-english).\n",
      "Using a pipeline without specifying a model name and revision in production is not recommended.\n",
      "Hardware accelerator e.g. GPU is available in the environment, but no `device` argument is passed to the `Pipeline` object. Model will be on CPU.\n"
     ]
    }
   ],
   "source": [
    "# !pip install transformers\n",
    "# !pip install torch\n",
    "# !pip install psycopg2-binary\n",
    "\n",
    "from transformers import pipeline\n",
    "import psycopg2\n",
    "\n",
    "# Sentiment analysis pipeline\n",
    "sentiment_model = pipeline(\"sentiment-analysis\")\n",
    "\n",
    "# Database connection\n",
    "conn = psycopg2.connect(\n",
    "    dbname=\"dancingpony\",\n",
    "    user=\"dancingponysvc\",\n",
    "    password=\"password\",\n",
    "    host=\"localhost\",\n",
    "    port=\"5432\"\n",
    ")\n",
    "cursor = conn.cursor()\n",
    "\n",
    "# Fetch reviews\n",
    "cursor.execute(\"SELECT id, review FROM restaurant_reviews\")\n",
    "reviews = cursor.fetchall()\n",
    "\n",
    "# Analyze sentiment and update scores\n",
    "for review_id, review_text in reviews:\n",
    "    result = sentiment_model(review_text)\n",
    "    sentiment_score = result[0]['score'] if result[0]['label'] == 'POSITIVE' else -result[0]['score']\n",
    "\n",
    "    # Update database with sentiment score\n",
    "    cursor.execute(\n",
    "        \"UPDATE restaurant_reviews SET sentiment_score = %s, updated_at = CURRENT_TIMESTAMP WHERE id = %s\",\n",
    "        (sentiment_score, review_id)\n",
    "    )\n",
    "\n",
    "conn.commit()\n",
    "cursor.close()\n",
    "conn.close()\n"
   ]
  }
 ],
 "metadata": {
  "kernelspec": {
   "display_name": ".venv",
   "language": "python",
   "name": "python3"
  },
  "language_info": {
   "codemirror_mode": {
    "name": "ipython",
    "version": 3
   },
   "file_extension": ".py",
   "mimetype": "text/x-python",
   "name": "python",
   "nbconvert_exporter": "python",
   "pygments_lexer": "ipython3",
   "version": "3.12.3"
  }
 },
 "nbformat": 4,
 "nbformat_minor": 2
}
